{
  "cells": [
    {
      "cell_type": "markdown",
      "source": [],
      "metadata": {
        "id": "GUqs4xJ_PlJ1"
      }
    },
    {
      "cell_type": "code",
      "source": [
        "\"olá esse arquivo é de teste no git hub\""
      ],
      "metadata": {
        "id": "2_BN_NcTPw5G",
        "outputId": "ac47606a-29ba-4406-f4f2-45099b672692",
        "colab": {
          "base_uri": "https://localhost:8080/",
          "height": 35
        }
      },
      "execution_count": null,
      "outputs": [
        {
          "output_type": "execute_result",
          "data": {
            "text/plain": [
              "'olá esse arquivo é de teste no git hub'"
            ],
            "application/vnd.google.colaboratory.intrinsic+json": {
              "type": "string"
            }
          },
          "metadata": {},
          "execution_count": 3
        }
      ]
    },
    {
      "cell_type": "markdown",
      "source": [
        "Arquivo teste no git hub\n"
      ],
      "metadata": {
        "id": "5K0y90qVUvBL"
      }
    }
  ],
  "metadata": {
    "colab": {
      "provenance": []
    },
    "kernelspec": {
      "display_name": "Python 3",
      "name": "python3"
    }
  },
  "nbformat": 4,
  "nbformat_minor": 0
}